{
 "cells": [
  {
   "cell_type": "code",
   "execution_count": 1,
   "metadata": {},
   "outputs": [],
   "source": [
    "import numpy as np\n",
    "import pandas as pd\n",
    "import requests\n",
    "from bs4 import BeautifulSoup"
   ]
  },
  {
   "cell_type": "code",
   "execution_count": 2,
   "metadata": {},
   "outputs": [],
   "source": [
    "names = []\n",
    "prices = []\n",
    "ratings = []"
   ]
  },
  {
   "cell_type": "code",
   "execution_count": 4,
   "metadata": {},
   "outputs": [
    {
     "name": "stdout",
     "output_type": "stream",
     "text": [
      "120\n",
      "120\n",
      "195\n",
      "144\n",
      "144\n",
      "234\n",
      "168\n",
      "168\n",
      "273\n",
      "192\n",
      "192\n",
      "312\n"
     ]
    }
   ],
   "source": [
    "pages = list(range(1,5))\n",
    "for page in pages:\n",
    "    url = requests.get('https://www.flipkart.com/search?q=mobile&otracker=search&otracker1=search&marketplace=FLIPKART&as-show=on&as=off&page={}'.format(page)).text\n",
    "    result = BeautifulSoup(url, 'html.parser')\n",
    "        \n",
    "    nm= result.find_all('div', class_ = '_4rR01T')\n",
    "    for i in range(len(nm)):\n",
    "        names.append(nm[i].text)\n",
    "    print(len(names))\n",
    "            \n",
    "        \n",
    "    pr= result.find_all('div', class_ = '_30jeq3 _1_WHN1')\n",
    "    for i in range(len(pr)):\n",
    "        prices.append(pr[i].text)\n",
    "    print(len(prices))\n",
    "            \n",
    "            \n",
    "    rt= result.find_all('div', class_ = '_3LWZlK')\n",
    "    for i in range(len(rt)):\n",
    "        ratings.append(rt[i].text)\n",
    "    print(len(ratings))\n",
    "            \n",
    "    "
   ]
  },
  {
   "cell_type": "code",
   "execution_count": 6,
   "metadata": {},
   "outputs": [],
   "source": [
    "data = list(zip(names, prices, ratings))"
   ]
  },
  {
   "cell_type": "code",
   "execution_count": 8,
   "metadata": {},
   "outputs": [
    {
     "data": {
      "text/html": [
       "<div>\n",
       "<style scoped>\n",
       "    .dataframe tbody tr th:only-of-type {\n",
       "        vertical-align: middle;\n",
       "    }\n",
       "\n",
       "    .dataframe tbody tr th {\n",
       "        vertical-align: top;\n",
       "    }\n",
       "\n",
       "    .dataframe thead th {\n",
       "        text-align: right;\n",
       "    }\n",
       "</style>\n",
       "<table border=\"1\" class=\"dataframe\">\n",
       "  <thead>\n",
       "    <tr style=\"text-align: right;\">\n",
       "      <th></th>\n",
       "      <th>Names</th>\n",
       "      <th>Prices</th>\n",
       "      <th>Ratings</th>\n",
       "    </tr>\n",
       "  </thead>\n",
       "  <tbody>\n",
       "    <tr>\n",
       "      <th>0</th>\n",
       "      <td>REDMI 9i Sport (Carbon Black, 64 GB)</td>\n",
       "      <td>₹8,799</td>\n",
       "      <td>4.4</td>\n",
       "    </tr>\n",
       "    <tr>\n",
       "      <th>1</th>\n",
       "      <td>REDMI 9i Sport (Coral Green, 64 GB)</td>\n",
       "      <td>₹8,799</td>\n",
       "      <td>4.4</td>\n",
       "    </tr>\n",
       "    <tr>\n",
       "      <th>2</th>\n",
       "      <td>realme C25_Y (Metal Grey, 128 GB)</td>\n",
       "      <td>₹11,999</td>\n",
       "      <td>4.5</td>\n",
       "    </tr>\n",
       "    <tr>\n",
       "      <th>3</th>\n",
       "      <td>realme C25_Y (Glacier Blue, 128 GB)</td>\n",
       "      <td>₹11,999</td>\n",
       "      <td>4.5</td>\n",
       "    </tr>\n",
       "    <tr>\n",
       "      <th>4</th>\n",
       "      <td>POCO C31 (Royal Blue, 64 GB)</td>\n",
       "      <td>₹8,999</td>\n",
       "      <td>4.4</td>\n",
       "    </tr>\n",
       "    <tr>\n",
       "      <th>...</th>\n",
       "      <td>...</td>\n",
       "      <td>...</td>\n",
       "      <td>...</td>\n",
       "    </tr>\n",
       "    <tr>\n",
       "      <th>187</th>\n",
       "      <td>MOTOROLA g31 (Meteorite Grey, 128 GB)</td>\n",
       "      <td>₹14,999</td>\n",
       "      <td>5</td>\n",
       "    </tr>\n",
       "    <tr>\n",
       "      <th>188</th>\n",
       "      <td>realme 8 (Cyber Silver, 128 GB)</td>\n",
       "      <td>₹15,999</td>\n",
       "      <td>5</td>\n",
       "    </tr>\n",
       "    <tr>\n",
       "      <th>189</th>\n",
       "      <td>Infinix Hot 11S (Green Wave, 64 GB)</td>\n",
       "      <td>₹10,499</td>\n",
       "      <td>4.4</td>\n",
       "    </tr>\n",
       "    <tr>\n",
       "      <th>190</th>\n",
       "      <td>realme 8 (Cyber Silver, 128 GB)</td>\n",
       "      <td>₹17,999</td>\n",
       "      <td>4</td>\n",
       "    </tr>\n",
       "    <tr>\n",
       "      <th>191</th>\n",
       "      <td>SAMSUNG Galaxy M32 (Light Blue, 64 GB)</td>\n",
       "      <td>₹14,599</td>\n",
       "      <td>4</td>\n",
       "    </tr>\n",
       "  </tbody>\n",
       "</table>\n",
       "<p>192 rows × 3 columns</p>\n",
       "</div>"
      ],
      "text/plain": [
       "                                      Names   Prices Ratings\n",
       "0      REDMI 9i Sport (Carbon Black, 64 GB)   ₹8,799     4.4\n",
       "1       REDMI 9i Sport (Coral Green, 64 GB)   ₹8,799     4.4\n",
       "2         realme C25_Y (Metal Grey, 128 GB)  ₹11,999     4.5\n",
       "3       realme C25_Y (Glacier Blue, 128 GB)  ₹11,999     4.5\n",
       "4              POCO C31 (Royal Blue, 64 GB)   ₹8,999     4.4\n",
       "..                                      ...      ...     ...\n",
       "187   MOTOROLA g31 (Meteorite Grey, 128 GB)  ₹14,999       5\n",
       "188         realme 8 (Cyber Silver, 128 GB)  ₹15,999       5\n",
       "189     Infinix Hot 11S (Green Wave, 64 GB)  ₹10,499     4.4\n",
       "190         realme 8 (Cyber Silver, 128 GB)  ₹17,999       4\n",
       "191  SAMSUNG Galaxy M32 (Light Blue, 64 GB)  ₹14,599       4\n",
       "\n",
       "[192 rows x 3 columns]"
      ]
     },
     "execution_count": 8,
     "metadata": {},
     "output_type": "execute_result"
    }
   ],
   "source": [
    "df= pd.DataFrame(data = data, columns = ['Names', 'Prices', 'Ratings'] )\n",
    "df"
   ]
  },
  {
   "cell_type": "code",
   "execution_count": null,
   "metadata": {},
   "outputs": [],
   "source": []
  }
 ],
 "metadata": {
  "kernelspec": {
   "display_name": "Python 3 (ipykernel)",
   "language": "python",
   "name": "python3"
  },
  "language_info": {
   "codemirror_mode": {
    "name": "ipython",
    "version": 3
   },
   "file_extension": ".py",
   "mimetype": "text/x-python",
   "name": "python",
   "nbconvert_exporter": "python",
   "pygments_lexer": "ipython3",
   "version": "3.9.7"
  }
 },
 "nbformat": 4,
 "nbformat_minor": 4
}
